{
  "nbformat": 4,
  "nbformat_minor": 0,
  "metadata": {
    "colab": {
      "provenance": [],
      "authorship_tag": "ABX9TyNj1aZ4F1nPNB44kzSld9RF",
      "include_colab_link": true
    },
    "kernelspec": {
      "name": "python3",
      "display_name": "Python 3"
    },
    "language_info": {
      "name": "python"
    }
  },
  "cells": [
    {
      "cell_type": "markdown",
      "metadata": {
        "id": "view-in-github",
        "colab_type": "text"
      },
      "source": [
        "<a href=\"https://colab.research.google.com/github/taherezzaier/location/blob/main/AMI_ASSURANCE_.ipynb\" target=\"_parent\"><img src=\"https://colab.research.google.com/assets/colab-badge.svg\" alt=\"Open In Colab\"/></a>"
      ]
    },
    {
      "cell_type": "code",
      "execution_count": null,
      "metadata": {
        "id": "Z2gnXH_0C6Gu"
      },
      "outputs": [],
      "source": [
        "import pandas as pd\n"
      ]
    },
    {
      "cell_type": "code",
      "source": [
        "# Chemins des fichiers Excel\n",
        "file_2023 = '/content/20231231_INVENTAIRE AUTO V2.xlsx'\n",
        "file_2024 = '/content/20240630_inventaire auto V2.xlsx'\n",
        "# Lecture des fichiers Excel\n",
        "df_2023 = pd.read_excel(file_2023)\n",
        "df_2024 = pd.read_excel(file_2024)"
      ],
      "metadata": {
        "id": "V54TWvHdDNub"
      },
      "execution_count": null,
      "outputs": []
    },
    {
      "cell_type": "code",
      "source": [
        "# Affichage des premières lignes des DataFrames pour vérifier le contenu\n",
        "print(\"DataFrame 2023:\")\n",
        "print(df_2023.head())\n",
        "\n",
        "print(\"\\nDataFrame 2024:\")\n",
        "print(df_2024.head())"
      ],
      "metadata": {
        "colab": {
          "base_uri": "https://localhost:8080/"
        },
        "id": "L3fagRxSDTNL",
        "outputId": "b571ba81-49b7-4a82-d509-7b33c6df468c"
      },
      "execution_count": null,
      "outputs": [
        {
          "output_type": "stream",
          "name": "stdout",
          "text": [
            "DataFrame 2023:\n",
            "   EXERCICE   NUMSNT GRNTSINI TYPE_DOSS  CAUSESINI  RESPIDA NATSINI  \\\n",
            "0      2023  S000001        A         A          1        4       X   \n",
            "1      2023  S000001        B         A          1        4       X   \n",
            "2      2023  S000002        B         A          1        4       X   \n",
            "3      2023  S000003        A         A          1        4       X   \n",
            "4      2023  S000003        B         A          1        4       X   \n",
            "\n",
            "   EVAL_INIT  MNTPAIGRN  MNTPROVIS       SAP  MNTTOTAL    DTSURV  DTDECSNT  \\\n",
            "0        0.0        0.0      0.000     0.000     0.000  20031003  20040105   \n",
            "1        0.0        0.0   1672.075  1672.075  1672.075  20031003  20040105   \n",
            "2        0.0        0.0   3900.950  3900.950  3900.950  20031001  20040302   \n",
            "3        0.0        0.0     77.000    77.000    77.000  20031017  20040316   \n",
            "4        0.0        0.0      0.000     0.000     0.000  20031017  20040316   \n",
            "\n",
            "   DTOUVSNT  DTREOUSNT  DTCLTSNT  CODE_ETAT  \n",
            "0  20040105   20200131  20191121          3  \n",
            "1  20040105   20200131  20191121          3  \n",
            "2  20040302          0         0          1  \n",
            "3  20040316   20210107  20191122          3  \n",
            "4  20040316   20210107  20191122          3  \n",
            "\n",
            "DataFrame 2024:\n",
            "   EXERCICE   NUMSNT GRNTSINI TYPE_DOSS  CAUSESINI  RESPIDA NATSINI  \\\n",
            "0      2024  S000001        A         A          1        4       X   \n",
            "1      2024  S000001        B         A          1        4       X   \n",
            "2      2024  S000002        B         A          1        4       X   \n",
            "3      2024  S112219        A         A          1        4       X   \n",
            "4      2024  S112219        B         A          1        4       X   \n",
            "\n",
            "   EVAL_INIT  MNTPAIGRN  MNTPROVIS       SAP  MNTTOTAL    DTSURV  DTDECSNT  \\\n",
            "0        0.0        0.0      0.000     0.000     0.000  20031003  20040105   \n",
            "1        0.0        0.0   1672.075  1672.075  1672.075  20031003  20040105   \n",
            "2        0.0        0.0   3900.950  3900.950  3900.950  20031001  20040302   \n",
            "3      168.0      168.0      0.000     0.000   168.000  20031112  20040302   \n",
            "4        0.0        0.0      0.000     0.000     0.000  20031112  20040302   \n",
            "\n",
            "   DTOUVSNT  DTREOUSNT  DTCLTSNT  CODE_ETAT  \n",
            "0  20040105   20200131  20191121          3  \n",
            "1  20040105   20200131  20191121          3  \n",
            "2  20040302          0         0          1  \n",
            "3  20040302   20240311  20140110          3  \n",
            "4  20040302   20240311  20140110          3  \n"
          ]
        }
      ]
    },
    {
      "cell_type": "code",
      "source": [
        "# Concaténation des deux DataFrames\n",
        "combined_df = pd.concat([df_2023, df_2024], ignore_index=True)\n",
        "\n",
        "# Affichage des premières lignes du DataFrame combiné\n",
        "print(\"\\nCombined DataFrame:\")\n",
        "print(combined_df.head())\n",
        "\n",
        "# Groupement par NUMSNT et GRNTSINI, puis sélection des colonnes spécifiées\n",
        "grouped_df = combined_df.groupby(['NUMSNT', 'GRNTSINI']).first().reset_index()\n",
        "\n",
        "# Sélection des colonnes spécifiées\n",
        "selected_columns = ['EXERCICE','NUMSNT', 'GRNTSINI', 'TYPE_DOSS', 'CAUSESINI', 'RESPIDA', 'NATSINI', 'EVAL_INIT', 'SAP', 'MNTTOTAL','MNTPROVIS', 'DTSURV', 'DTDECSNT', 'DTOUVSNT', 'DTREOUSNT', 'DTCLTSNT']\n",
        "result_df = grouped_df[selected_columns]\n",
        "\n",
        "# Affichage du résultat final\n",
        "print(\"\\nResult DataFrame:\")\n",
        "print(result_df)"
      ],
      "metadata": {
        "colab": {
          "base_uri": "https://localhost:8080/"
        },
        "id": "gI4d0a2mY7CD",
        "outputId": "b63977f6-0e07-4fe2-ce9f-173afc78958f"
      },
      "execution_count": null,
      "outputs": [
        {
          "output_type": "stream",
          "name": "stdout",
          "text": [
            "\n",
            "Combined DataFrame:\n",
            "   EXERCICE   NUMSNT GRNTSINI TYPE_DOSS  CAUSESINI  RESPIDA NATSINI  \\\n",
            "0      2023  S000001        A         A          1        4       X   \n",
            "1      2023  S000001        B         A          1        4       X   \n",
            "2      2023  S000002        B         A          1        4       X   \n",
            "3      2023  S000003        A         A          1        4       X   \n",
            "4      2023  S000003        B         A          1        4       X   \n",
            "\n",
            "   EVAL_INIT  MNTPAIGRN  MNTPROVIS       SAP  MNTTOTAL    DTSURV  DTDECSNT  \\\n",
            "0        0.0        0.0      0.000     0.000     0.000  20031003  20040105   \n",
            "1        0.0        0.0   1672.075  1672.075  1672.075  20031003  20040105   \n",
            "2        0.0        0.0   3900.950  3900.950  3900.950  20031001  20040302   \n",
            "3        0.0        0.0     77.000    77.000    77.000  20031017  20040316   \n",
            "4        0.0        0.0      0.000     0.000     0.000  20031017  20040316   \n",
            "\n",
            "   DTOUVSNT  DTREOUSNT  DTCLTSNT  CODE_ETAT  \n",
            "0  20040105   20200131  20191121          3  \n",
            "1  20040105   20200131  20191121          3  \n",
            "2  20040302          0         0          1  \n",
            "3  20040316   20210107  20191122          3  \n",
            "4  20040316   20210107  20191122          3  \n",
            "\n",
            "Result DataFrame:\n",
            "        EXERCICE   NUMSNT GRNTSINI TYPE_DOSS  CAUSESINI  RESPIDA NATSINI  \\\n",
            "0           2023  S000001        A         A          1        4       X   \n",
            "1           2023  S000001        B         A          1        4       X   \n",
            "2           2023  S000002        B         A          1        4       X   \n",
            "3           2023  S000003        A         A          1        4       X   \n",
            "4           2023  S000003        B         A          1        4       X   \n",
            "...          ...      ...      ...       ...        ...      ...     ...   \n",
            "246469      2024  S127323        M         E         11        0       A   \n",
            "246470      2024  S127324        A         E         11        0       A   \n",
            "246471      2024  S127324        M         E         11        0       A   \n",
            "246472      2024  S127325        A         E          3        0       A   \n",
            "246473      2024  S127325        K         E          3        0       A   \n",
            "\n",
            "        EVAL_INIT       SAP  MNTTOTAL  MNTPROVIS    DTSURV  DTDECSNT  \\\n",
            "0             0.0     0.000     0.000      0.000  20031003  20040105   \n",
            "1             0.0  1672.075  1672.075   1672.075  20031003  20040105   \n",
            "2             0.0  3900.950  3900.950   3900.950  20031001  20040302   \n",
            "3             0.0    77.000    77.000     77.000  20031017  20040316   \n",
            "4             0.0     0.000     0.000      0.000  20031017  20040316   \n",
            "...           ...       ...       ...        ...       ...       ...   \n",
            "246469      400.0   400.000   400.000    400.000  20240627  20240628   \n",
            "246470      110.0   110.000   110.000    110.000  20240627  20240628   \n",
            "246471      550.0   550.000   550.000    550.000  20240627  20240628   \n",
            "246472      110.0   110.000   110.000    110.000  20240627  20240628   \n",
            "246473     2170.0     0.000  2170.000   2170.000  20240627  20240628   \n",
            "\n",
            "        DTOUVSNT  DTREOUSNT  DTCLTSNT  \n",
            "0       20040105   20200131  20191121  \n",
            "1       20040105   20200131  20191121  \n",
            "2       20040302          0         0  \n",
            "3       20040316   20210107  20191122  \n",
            "4       20040316   20210107  20191122  \n",
            "...          ...        ...       ...  \n",
            "246469  20240628          0         0  \n",
            "246470  20240628          0         0  \n",
            "246471  20240628          0         0  \n",
            "246472  20240628          0         0  \n",
            "246473  20240628          0         0  \n",
            "\n",
            "[246474 rows x 16 columns]\n"
          ]
        }
      ]
    },
    {
      "cell_type": "code",
      "source": [
        "# Concaténation des deux DataFrames\n",
        "combined_df = pd.concat([df_2023, df_2024], ignore_index=True)\n",
        "\n",
        "# Affichage des premières lignes du DataFrame combiné\n",
        "print(\"\\nCombined DataFrame:\")\n",
        "print(combined_df.head())\n",
        "\n",
        "# Groupement par NUMSNT et GRNTSINI, puis sélection des colonnes spécifiées\n",
        "grouped_df = combined_df.groupby(['NUMSNT', 'GRNTSINI']).first().reset_index()\n",
        "\n",
        "# Sélection des colonnes spécifiées\n",
        "selected_columns = ['EXERCICE','NUMSNT', 'GRNTSINI', 'TYPE_DOSS', 'CAUSESINI', 'RESPIDA', 'NATSINI', 'EVAL_INIT', 'SAP', 'MNTTOTAL','MNTPROVIS', 'DTSURV', 'DTDECSNT', 'DTOUVSNT', 'DTREOUSNT', 'DTCLTSNT']\n",
        "result_df = grouped_df[selected_columns]\n",
        "\n",
        "# Affichage du résultat final\n",
        "# Sélection des colonnes nécessaires pour la fusion et l'analyse\n",
        "columns_to_merge = ['NUMSNT', 'GRNTSINI', 'MNTPROVIS', 'MNTPAIGRN']\n",
        "\n",
        "# Renommer les colonnes pour éviter les conflits lors de la fusion\n",
        "df_2023_renamed = df_2023[columns_to_merge].rename(columns={'MNTPROVIS': 'MNTPROVIS_2023', 'MNTPAIGRN': 'MNTPAIGRN_2023'})\n",
        "df_2024_renamed = df_2024[columns_to_merge].rename(columns={'MNTPROVIS': 'MNTPROVIS_2024', 'MNTPAIGRN': 'MNTPAIGRN_2024'})\n",
        "\n",
        "# Fusionner les DataFrames sur NUMSNT et GRNTSINI\n",
        "merged_df = pd.merge(df_2023_renamed, df_2024_renamed, on=['NUMSNT', 'GRNTSINI'], how='outer')\n",
        "\n",
        "# Remplacer les NaN par 0 pour éviter les erreurs dans les calculs\n",
        "merged_df.fillna(0, inplace=True)\n",
        "\n",
        "# Calculer le résultat de l'analyse\n",
        "merged_df['ANALYSIS_RESULT'] = merged_df['MNTPROVIS_2023'] - (merged_df['MNTPROVIS_2024'] + merged_df['MNTPAIGRN_2024'])\n",
        "print(merged_df)\n"
      ],
      "metadata": {
        "colab": {
          "base_uri": "https://localhost:8080/"
        },
        "id": "sDNajiwqBKfw",
        "outputId": "e0c18901-a9f2-495e-973b-b514573650c0"
      },
      "execution_count": null,
      "outputs": [
        {
          "output_type": "stream",
          "name": "stdout",
          "text": [
            "\n",
            "Combined DataFrame:\n",
            "   EXERCICE   NUMSNT GRNTSINI TYPE_DOSS  CAUSESINI  RESPIDA NATSINI  \\\n",
            "0      2023  S000001        A         A          1        4       X   \n",
            "1      2023  S000001        B         A          1        4       X   \n",
            "2      2023  S000002        B         A          1        4       X   \n",
            "3      2023  S000003        A         A          1        4       X   \n",
            "4      2023  S000003        B         A          1        4       X   \n",
            "\n",
            "   EVAL_INIT  MNTPAIGRN  MNTPROVIS       SAP  MNTTOTAL    DTSURV  DTDECSNT  \\\n",
            "0        0.0        0.0      0.000     0.000     0.000  20031003  20040105   \n",
            "1        0.0        0.0   1672.075  1672.075  1672.075  20031003  20040105   \n",
            "2        0.0        0.0   3900.950  3900.950  3900.950  20031001  20040302   \n",
            "3        0.0        0.0     77.000    77.000    77.000  20031017  20040316   \n",
            "4        0.0        0.0      0.000     0.000     0.000  20031017  20040316   \n",
            "\n",
            "   DTOUVSNT  DTREOUSNT  DTCLTSNT  CODE_ETAT  \n",
            "0  20040105   20200131  20191121          3  \n",
            "1  20040105   20200131  20191121          3  \n",
            "2  20040302          0         0          1  \n",
            "3  20040316   20210107  20191122          3  \n",
            "4  20040316   20210107  20191122          3  \n",
            "         NUMSNT GRNTSINI  MNTPROVIS_2023  MNTPAIGRN_2023  MNTPROVIS_2024  \\\n",
            "0       S000001        A           0.000             0.0           0.000   \n",
            "1       S000001        B        1672.075             0.0        1672.075   \n",
            "2       S000002        B        3900.950             0.0        3900.950   \n",
            "3       S000003        A          77.000             0.0          77.000   \n",
            "4       S000003        B           0.000             0.0           0.000   \n",
            "...         ...      ...             ...             ...             ...   \n",
            "246469  S127323        A           0.000             0.0         110.000   \n",
            "246470  S127324        M           0.000             0.0         550.000   \n",
            "246471  S127324        A           0.000             0.0         110.000   \n",
            "246472  S127325        A           0.000             0.0         110.000   \n",
            "246473  S127325        K           0.000             0.0        2170.000   \n",
            "\n",
            "        MNTPAIGRN_2024  ANALYSIS_RESULT  \n",
            "0                  0.0              0.0  \n",
            "1                  0.0              0.0  \n",
            "2                  0.0              0.0  \n",
            "3                  0.0              0.0  \n",
            "4                  0.0              0.0  \n",
            "...                ...              ...  \n",
            "246469             0.0           -110.0  \n",
            "246470             0.0           -550.0  \n",
            "246471             0.0           -110.0  \n",
            "246472             0.0           -110.0  \n",
            "246473             0.0          -2170.0  \n",
            "\n",
            "[246474 rows x 7 columns]\n"
          ]
        }
      ]
    },
    {
      "cell_type": "code",
      "source": [
        "result_df.columns"
      ],
      "metadata": {
        "colab": {
          "base_uri": "https://localhost:8080/"
        },
        "id": "-r1iAbBYUglS",
        "outputId": "32d3e15e-40ca-4d19-aafe-a217ac285432"
      },
      "execution_count": null,
      "outputs": [
        {
          "output_type": "execute_result",
          "data": {
            "text/plain": [
              "Index(['EXERCICE', 'NUMSNT', 'GRNTSINI', 'TYPE_DOSS', 'CAUSESINI', 'RESPIDA',\n",
              "       'NATSINI', 'EVAL_INIT', 'SAP', 'MNTTOTAL', 'MNTPROVIS', 'DTSURV',\n",
              "       'DTDECSNT', 'DTOUVSNT', 'DTREOUSNT', 'DTCLTSNT'],\n",
              "      dtype='object')"
            ]
          },
          "metadata": {},
          "execution_count": 9
        }
      ]
    },
    {
      "cell_type": "code",
      "source": [
        "# ID1 : Concaténation des colonnes MNTPROVIS et GRNTSINI\n",
        "result_df['ID1'] = result_df['MNTPROVIS'].astype(str) + result_df['GRNTSINI'].astype(str)\n",
        "\n",
        "# ID2 : Concaténation des colonnes MNTPROVIS, GRNTSINI et DTSURV\n",
        "result_df['ID2'] = result_df['MNTPROVIS'].astype(str) + result_df['GRNTSINI'].astype(str) + result_df['DTSURV'].astype(str)\n",
        "\n",
        "# ID3 : Concaténation des colonnes MNTPROVIS, GRNTSINI et DTSURV\n",
        "result_df['ID3'] = result_df['MNTPROVIS'].astype(str) + result_df['GRNTSINI'].astype(str) + result_df['DTSURV'].astype(str)\n",
        "\n",
        "# ID4 : Concaténation des colonnes MNTPROVIS et GRNTSINI\n",
        "result_df['ID4'] = result_df['MNTPROVIS'].astype(str) +result_df['GRNTSINI'].astype(str)\n",
        "\n",
        "# Affichage des résultats pour chaque identifiant\n",
        "print(\"\\nResult DataFrame with IDs:\")\n",
        "print(result_df.head())"
      ],
      "metadata": {
        "id": "okJIDOR-HoZ4",
        "colab": {
          "base_uri": "https://localhost:8080/"
        },
        "outputId": "1bf344d2-f4c3-4f73-d743-7129e28f762f"
      },
      "execution_count": null,
      "outputs": [
        {
          "output_type": "stream",
          "name": "stderr",
          "text": [
            "<ipython-input-10-5b3cce47345e>:2: SettingWithCopyWarning: \n",
            "A value is trying to be set on a copy of a slice from a DataFrame.\n",
            "Try using .loc[row_indexer,col_indexer] = value instead\n",
            "\n",
            "See the caveats in the documentation: https://pandas.pydata.org/pandas-docs/stable/user_guide/indexing.html#returning-a-view-versus-a-copy\n",
            "  result_df['ID1'] = result_df['MNTPROVIS'].astype(str) + result_df['GRNTSINI'].astype(str)\n"
          ]
        },
        {
          "output_type": "stream",
          "name": "stdout",
          "text": [
            "\n",
            "Result DataFrame with IDs:\n",
            "   EXERCICE   NUMSNT GRNTSINI TYPE_DOSS  CAUSESINI  RESPIDA NATSINI  \\\n",
            "0      2023  S000001        A         A          1        4       X   \n",
            "1      2023  S000001        B         A          1        4       X   \n",
            "2      2023  S000002        B         A          1        4       X   \n",
            "3      2023  S000003        A         A          1        4       X   \n",
            "4      2023  S000003        B         A          1        4       X   \n",
            "\n",
            "   EVAL_INIT       SAP  MNTTOTAL  MNTPROVIS    DTSURV  DTDECSNT  DTOUVSNT  \\\n",
            "0        0.0     0.000     0.000      0.000  20031003  20040105  20040105   \n",
            "1        0.0  1672.075  1672.075   1672.075  20031003  20040105  20040105   \n",
            "2        0.0  3900.950  3900.950   3900.950  20031001  20040302  20040302   \n",
            "3        0.0    77.000    77.000     77.000  20031017  20040316  20040316   \n",
            "4        0.0     0.000     0.000      0.000  20031017  20040316  20040316   \n",
            "\n",
            "   DTREOUSNT  DTCLTSNT        ID1                ID2                ID3  \\\n",
            "0   20200131  20191121       0.0A       0.0A20031003       0.0A20031003   \n",
            "1   20200131  20191121  1672.075B  1672.075B20031003  1672.075B20031003   \n",
            "2          0         0   3900.95B   3900.95B20031001   3900.95B20031001   \n",
            "3   20210107  20191122      77.0A      77.0A20031017      77.0A20031017   \n",
            "4   20210107  20191122       0.0B       0.0B20031017       0.0B20031017   \n",
            "\n",
            "         ID4  \n",
            "0       0.0A  \n",
            "1  1672.075B  \n",
            "2   3900.95B  \n",
            "3      77.0A  \n",
            "4       0.0B  \n"
          ]
        }
      ]
    },
    {
      "cell_type": "code",
      "source": [
        "# Charger le fichier Excel\n",
        "file_path = '/content/Référentiel des CMs_MAJ stagiaire.xlsx'\n",
        "excel_file = pd.ExcelFile(file_path)\n",
        "\n",
        "# Lire les différents onglets\n",
        "garantie_dossierMAJ = pd.read_excel(excel_file, sheet_name='CM garantie_dossierMAJ')\n",
        "b_d_2 = pd.read_excel(excel_file, sheet_name='CMs B_D (2)')\n",
        "valeur_arrondie_2 = pd.read_excel(excel_file, sheet_name='CM_valeur arrondie (2)')\n",
        "\n",
        "\n",
        "# Boucle de vérification des identifiants\n",
        "result_df['ID1_exists'] = result_df['ID1'].isin(garantie_dossierMAJ['Identifiant'])\n",
        "result_df['ID2_exists'] = result_df['ID2'].isin(garantie_dossierMAJ['Identifiant'])\n",
        "result_df['ID3_exists'] = result_df['ID3'].isin(b_d_2['Identifiant'])\n",
        "result_df['ID4_exists'] = result_df['ID4'].isin(valeur_arrondie_2['Identifiant'])\n",
        "\n",
        "# Affichage des résultats\n",
        "print(result_df.head())\n"
      ],
      "metadata": {
        "colab": {
          "base_uri": "https://localhost:8080/"
        },
        "id": "2xBMHM6DCsWp",
        "outputId": "73eb31b6-1703-44c2-a788-be327e0e9f02"
      },
      "execution_count": null,
      "outputs": [
        {
          "output_type": "stream",
          "name": "stdout",
          "text": [
            "   EXERCICE   NUMSNT GRNTSINI TYPE_DOSS  CAUSESINI  RESPIDA NATSINI  \\\n",
            "0      2023  S000001        A         A          1        4       X   \n",
            "1      2023  S000001        B         A          1        4       X   \n",
            "2      2023  S000002        B         A          1        4       X   \n",
            "3      2023  S000003        A         A          1        4       X   \n",
            "4      2023  S000003        B         A          1        4       X   \n",
            "\n",
            "   EVAL_INIT       SAP  MNTTOTAL  ...  DTREOUSNT  DTCLTSNT        ID1  \\\n",
            "0        0.0     0.000     0.000  ...   20200131  20191121       0.0A   \n",
            "1        0.0  1672.075  1672.075  ...   20200131  20191121  1672.075B   \n",
            "2        0.0  3900.950  3900.950  ...          0         0   3900.95B   \n",
            "3        0.0    77.000    77.000  ...   20210107  20191122      77.0A   \n",
            "4        0.0     0.000     0.000  ...   20210107  20191122       0.0B   \n",
            "\n",
            "                 ID2                ID3        ID4 ID1_exists ID2_exists  \\\n",
            "0       0.0A20031003       0.0A20031003       0.0A      False      False   \n",
            "1  1672.075B20031003  1672.075B20031003  1672.075B      False      False   \n",
            "2   3900.95B20031001   3900.95B20031001   3900.95B      False      False   \n",
            "3      77.0A20031017      77.0A20031017      77.0A      False      False   \n",
            "4       0.0B20031017       0.0B20031017       0.0B      False      False   \n",
            "\n",
            "  ID3_exists ID4_exists  \n",
            "0      False      False  \n",
            "1      False      False  \n",
            "2      False      False  \n",
            "3      False      False  \n",
            "4      False      False  \n",
            "\n",
            "[5 rows x 24 columns]\n"
          ]
        }
      ]
    },
    {
      "cell_type": "code",
      "source": [
        "# Affichage des résultats\n",
        "print(result_df)\n",
        "\n",
        "# Exporting to an Excel file\n",
        "result_df.to_excel('output.xlsx', index=False)  # index=False to avoid saving the index as a column"
      ],
      "metadata": {
        "colab": {
          "base_uri": "https://localhost:8080/"
        },
        "id": "xDW5FDKTgvr3",
        "outputId": "317ed69c-b6dd-4493-eb93-667b91bbb221"
      },
      "execution_count": null,
      "outputs": [
        {
          "output_type": "stream",
          "name": "stdout",
          "text": [
            "        EXERCICE   NUMSNT GRNTSINI TYPE_DOSS  CAUSESINI  RESPIDA NATSINI  \\\n",
            "0           2023  S000001        A         A          1        4       X   \n",
            "1           2023  S000001        B         A          1        4       X   \n",
            "2           2023  S000002        B         A          1        4       X   \n",
            "3           2023  S000003        A         A          1        4       X   \n",
            "4           2023  S000003        B         A          1        4       X   \n",
            "...          ...      ...      ...       ...        ...      ...     ...   \n",
            "246469      2024  S127323        M         E         11        0       A   \n",
            "246470      2024  S127324        A         E         11        0       A   \n",
            "246471      2024  S127324        M         E         11        0       A   \n",
            "246472      2024  S127325        A         E          3        0       A   \n",
            "246473      2024  S127325        K         E          3        0       A   \n",
            "\n",
            "        EVAL_INIT       SAP  MNTTOTAL  ...  DTREOUSNT  DTCLTSNT        ID1  \\\n",
            "0             0.0     0.000     0.000  ...   20200131  20191121       0.0A   \n",
            "1             0.0  1672.075  1672.075  ...   20200131  20191121  1672.075B   \n",
            "2             0.0  3900.950  3900.950  ...          0         0   3900.95B   \n",
            "3             0.0    77.000    77.000  ...   20210107  20191122      77.0A   \n",
            "4             0.0     0.000     0.000  ...   20210107  20191122       0.0B   \n",
            "...           ...       ...       ...  ...        ...       ...        ...   \n",
            "246469      400.0   400.000   400.000  ...          0         0     400.0M   \n",
            "246470      110.0   110.000   110.000  ...          0         0     110.0A   \n",
            "246471      550.0   550.000   550.000  ...          0         0     550.0M   \n",
            "246472      110.0   110.000   110.000  ...          0         0     110.0A   \n",
            "246473     2170.0     0.000  2170.000  ...          0         0    2170.0K   \n",
            "\n",
            "                      ID2                ID3        ID4 ID1_exists ID2_exists  \\\n",
            "0            0.0A20031003       0.0A20031003       0.0A      False      False   \n",
            "1       1672.075B20031003  1672.075B20031003  1672.075B      False      False   \n",
            "2        3900.95B20031001   3900.95B20031001   3900.95B      False      False   \n",
            "3           77.0A20031017      77.0A20031017      77.0A      False      False   \n",
            "4            0.0B20031017       0.0B20031017       0.0B      False      False   \n",
            "...                   ...                ...        ...        ...        ...   \n",
            "246469     400.0M20240627     400.0M20240627     400.0M      False      False   \n",
            "246470     110.0A20240627     110.0A20240627     110.0A      False      False   \n",
            "246471     550.0M20240627     550.0M20240627     550.0M      False      False   \n",
            "246472     110.0A20240627     110.0A20240627     110.0A      False      False   \n",
            "246473    2170.0K20240627    2170.0K20240627    2170.0K      False      False   \n",
            "\n",
            "       ID3_exists ID4_exists  \n",
            "0           False      False  \n",
            "1           False      False  \n",
            "2           False      False  \n",
            "3           False      False  \n",
            "4           False      False  \n",
            "...           ...        ...  \n",
            "246469      False      False  \n",
            "246470      False      False  \n",
            "246471      False      False  \n",
            "246472      False      False  \n",
            "246473      False      False  \n",
            "\n",
            "[246474 rows x 24 columns]\n"
          ]
        }
      ]
    }
  ]
}